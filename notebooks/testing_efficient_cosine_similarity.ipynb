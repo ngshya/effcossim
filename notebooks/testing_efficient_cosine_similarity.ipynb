{
 "cells": [
  {
   "cell_type": "markdown",
   "id": "legislative-debate",
   "metadata": {},
   "source": [
    "# Efficient Pairwise Cosine Similarity"
   ]
  },
  {
   "cell_type": "code",
   "execution_count": 1,
   "id": "exact-lightweight",
   "metadata": {},
   "outputs": [
    {
     "name": "stdout",
     "output_type": "stream",
     "text": [
      "/home/ngshya/drive/gdrive/projects/effcossim\n"
     ]
    }
   ],
   "source": [
    "%cd ~/drive/gdrive/projects/effcossim"
   ]
  },
  {
   "cell_type": "code",
   "execution_count": 2,
   "id": "senior-california",
   "metadata": {},
   "outputs": [],
   "source": [
    "from numpy import array\n",
    "from time import time\n",
    "from scipy.sparse import random\n",
    "from effcossim.pcs import pairwise_cosine_similarity, pp_pcs"
   ]
  },
  {
   "cell_type": "markdown",
   "id": "large-balloon",
   "metadata": {},
   "source": [
    "## Sample code: efficient vs non-efficient"
   ]
  },
  {
   "cell_type": "code",
   "execution_count": 3,
   "id": "multiple-essex",
   "metadata": {},
   "outputs": [],
   "source": [
    "A = array([\n",
    "    [1, 2, 3], \n",
    "    [0, 1, 2],\n",
    "    [5, 1, 1]\n",
    "])\n",
    "\n",
    "B = array([\n",
    "    [1, 1, 2], \n",
    "    [0, 1, 2],\n",
    "    [5, 0, 1], \n",
    "    [0, 0, 4]\n",
    "])"
   ]
  },
  {
   "cell_type": "code",
   "execution_count": 4,
   "id": "artistic-requirement",
   "metadata": {},
   "outputs": [
    {
     "name": "stdout",
     "output_type": "stream",
     "text": [
      "[[0.98198051 0.95618289 0.41931393 0.80178373]\n",
      " [0.91287093 1.         0.1754116  0.89442719]\n",
      " [0.62853936 0.25819889 0.98130676 0.19245009]]\n"
     ]
    }
   ],
   "source": [
    "M1 = pairwise_cosine_similarity(\n",
    "    A=A, B=B, \n",
    "    efficient=False, \n",
    "    dense_output=True\n",
    ")\n",
    "\n",
    "print(M1)\n",
    "del M1"
   ]
  },
  {
   "cell_type": "code",
   "execution_count": 5,
   "id": "given-bulgarian",
   "metadata": {},
   "outputs": [
    {
     "name": "stdout",
     "output_type": "stream",
     "text": [
      "[[0.98198051 0.95618289 0.41931393 0.80178373]\n",
      " [0.91287093 1.         0.1754116  0.89442719]\n",
      " [0.62853936 0.25819889 0.98130676 0.19245009]]\n"
     ]
    }
   ],
   "source": [
    "M2 = pairwise_cosine_similarity(\n",
    "    A=A, B=B, \n",
    "    efficient=True, \n",
    "    n_top=4, \n",
    "    lower_bound=0.0, \n",
    "    n_jobs=1, \n",
    "    dense_output=True\n",
    ")\n",
    "\n",
    "print(M2)\n",
    "del M2"
   ]
  },
  {
   "cell_type": "markdown",
   "id": "discrete-crazy",
   "metadata": {},
   "source": [
    "## Testing efficient vs non-efficient"
   ]
  },
  {
   "cell_type": "code",
   "execution_count": 6,
   "id": "divine-northern",
   "metadata": {},
   "outputs": [
    {
     "name": "stdout",
     "output_type": "stream",
     "text": [
      "CPU times: user 6.37 s, sys: 236 ms, total: 6.6 s\n",
      "Wall time: 6.59 s\n"
     ]
    }
   ],
   "source": [
    "%%time\n",
    "\n",
    "A = random(\n",
    "    m=10000,       \n",
    "    n=5000, \n",
    "    density=0.3, \n",
    "    format='csr', \n",
    "    random_state=1102\n",
    ")\n",
    "B = random(\n",
    "    m=10000, \n",
    "    n=5000, \n",
    "    density=0.3, \n",
    "    format='csr', \n",
    "    random_state=1102\n",
    ")"
   ]
  },
  {
   "cell_type": "code",
   "execution_count": 7,
   "id": "minor-dining",
   "metadata": {},
   "outputs": [
    {
     "name": "stdout",
     "output_type": "stream",
     "text": [
      "Output size: 800000000\n",
      "CPU times: user 2min 27s, sys: 208 ms, total: 2min 27s\n",
      "Wall time: 2min 27s\n"
     ]
    }
   ],
   "source": [
    "%%time\n",
    "\n",
    "M1 = pairwise_cosine_similarity(\n",
    "    A=A, B=B, \n",
    "    efficient=False, \n",
    "    dense_output=False\n",
    ")\n",
    "\n",
    "print(\"Output size:\", M1.data.nbytes)\n",
    "del M1"
   ]
  },
  {
   "cell_type": "code",
   "execution_count": 8,
   "id": "digital-benefit",
   "metadata": {},
   "outputs": [
    {
     "name": "stdout",
     "output_type": "stream",
     "text": [
      "Output size: 80000\n",
      "CPU times: user 1min 58s, sys: 173 ms, total: 1min 58s\n",
      "Wall time: 1min 58s\n"
     ]
    }
   ],
   "source": [
    "%%time\n",
    "\n",
    "M2 = pairwise_cosine_similarity(\n",
    "    A=A, B=B, \n",
    "    efficient=True, \n",
    "    n_top=10, \n",
    "    lower_bound=0.5, \n",
    "    n_jobs=1, \n",
    "    dense_output=False\n",
    ")\n",
    "\n",
    "print(\"Output size:\", M2.data.nbytes)\n",
    "del M2"
   ]
  },
  {
   "cell_type": "code",
   "execution_count": 9,
   "id": "allied-baltimore",
   "metadata": {},
   "outputs": [
    {
     "name": "stdout",
     "output_type": "stream",
     "text": [
      "Output size: 80000\n",
      "CPU times: user 2min 43s, sys: 184 ms, total: 2min 43s\n",
      "Wall time: 1min 22s\n"
     ]
    }
   ],
   "source": [
    "%%time\n",
    "\n",
    "M2 = pairwise_cosine_similarity(\n",
    "    A=A, B=B, \n",
    "    efficient=True, \n",
    "    n_top=10, \n",
    "    lower_bound=0.5, \n",
    "    n_jobs=2, \n",
    "    dense_output=False\n",
    ")\n",
    "\n",
    "print(\"Output size:\", M2.data.nbytes)\n",
    "del M2"
   ]
  },
  {
   "cell_type": "code",
   "execution_count": 10,
   "id": "banner-fountain",
   "metadata": {},
   "outputs": [
    {
     "name": "stdout",
     "output_type": "stream",
     "text": [
      "Output size: 80000\n",
      "CPU times: user 3min 47s, sys: 238 ms, total: 3min 48s\n",
      "Wall time: 59 s\n"
     ]
    }
   ],
   "source": [
    "%%time\n",
    "\n",
    "M2 = pairwise_cosine_similarity(\n",
    "    A=A, B=B, \n",
    "    efficient=True, \n",
    "    n_top=10, \n",
    "    lower_bound=0.5, \n",
    "    n_jobs=4, \n",
    "    dense_output=False\n",
    ")\n",
    "\n",
    "print(\"Output size:\", M2.data.nbytes)\n",
    "del M2"
   ]
  },
  {
   "cell_type": "code",
   "execution_count": 11,
   "id": "metropolitan-refund",
   "metadata": {},
   "outputs": [
    {
     "name": "stdout",
     "output_type": "stream",
     "text": [
      "Output size: 80000\n",
      "CPU times: user 5min 40s, sys: 430 ms, total: 5min 41s\n",
      "Wall time: 1min 8s\n"
     ]
    }
   ],
   "source": [
    "%%time\n",
    "\n",
    "M2 = pairwise_cosine_similarity(\n",
    "    A=A, B=B, \n",
    "    efficient=True, \n",
    "    n_top=10, \n",
    "    lower_bound=0.5, \n",
    "    n_jobs=6, \n",
    "    dense_output=False\n",
    ")\n",
    "\n",
    "print(\"Output size:\", M2.data.nbytes)\n",
    "del M2"
   ]
  },
  {
   "cell_type": "code",
   "execution_count": 12,
   "id": "dying-cuisine",
   "metadata": {},
   "outputs": [
    {
     "name": "stdout",
     "output_type": "stream",
     "text": [
      "Output size: 80000\n",
      "CPU times: user 6min 12s, sys: 593 ms, total: 6min 13s\n",
      "Wall time: 52.7 s\n"
     ]
    }
   ],
   "source": [
    "%%time\n",
    "\n",
    "M2 = pairwise_cosine_similarity(\n",
    "    A=A, B=B, \n",
    "    efficient=True, \n",
    "    n_top=10, \n",
    "    lower_bound=0.5, \n",
    "    n_jobs=8, \n",
    "    dense_output=False\n",
    ")\n",
    "\n",
    "print(\"Output size:\", M2.data.nbytes)\n",
    "del M2"
   ]
  },
  {
   "cell_type": "code",
   "execution_count": 13,
   "id": "precise-stable",
   "metadata": {},
   "outputs": [
    {
     "name": "stdout",
     "output_type": "stream",
     "text": [
      "Output size: 80000\n",
      "CPU times: user 6min 16s, sys: 767 ms, total: 6min 16s\n",
      "Wall time: 1min 2s\n"
     ]
    }
   ],
   "source": [
    "%%time\n",
    "\n",
    "M2 = pairwise_cosine_similarity(\n",
    "    A=A, B=B, \n",
    "    efficient=True, \n",
    "    n_top=10, \n",
    "    lower_bound=0.5, \n",
    "    n_jobs=10, \n",
    "    dense_output=False\n",
    ")\n",
    "\n",
    "print(\"Output size:\", M2.data.nbytes)\n",
    "del M2"
   ]
  },
  {
   "cell_type": "markdown",
   "id": "chronic-moderator",
   "metadata": {},
   "source": [
    "## Parallel run for lists of matrices"
   ]
  },
  {
   "cell_type": "code",
   "execution_count": 14,
   "id": "distributed-conversation",
   "metadata": {},
   "outputs": [],
   "source": [
    "l1 = [random(m=10000, n=1000, density=0.3,) for _ in range(6)]\n",
    "l2 = [random(m=10000, n=1000, density=0.3,) for _ in range(6)]"
   ]
  },
  {
   "cell_type": "code",
   "execution_count": 15,
   "id": "minimal-pasta",
   "metadata": {},
   "outputs": [],
   "source": [
    "L = pp_pcs(\n",
    "    l1=l1, \n",
    "    l2=l2, \n",
    "    n_workers=2, \n",
    "    efficient=True, \n",
    "    n_top=10, \n",
    "    lower_bound=0.3, \n",
    "    n_jobs=2, \n",
    "    dense_output=False\n",
    ")"
   ]
  },
  {
   "cell_type": "code",
   "execution_count": 16,
   "id": "talented-steps",
   "metadata": {},
   "outputs": [
    {
     "data": {
      "text/plain": [
       "[<10000x10000 sparse matrix of type '<class 'numpy.float64'>'\n",
       " \twith 93943 stored elements in Compressed Sparse Row format>,\n",
       " <10000x10000 sparse matrix of type '<class 'numpy.float64'>'\n",
       " \twith 93890 stored elements in Compressed Sparse Row format>,\n",
       " <10000x10000 sparse matrix of type '<class 'numpy.float64'>'\n",
       " \twith 93541 stored elements in Compressed Sparse Row format>,\n",
       " <10000x10000 sparse matrix of type '<class 'numpy.float64'>'\n",
       " \twith 93726 stored elements in Compressed Sparse Row format>,\n",
       " <10000x10000 sparse matrix of type '<class 'numpy.float64'>'\n",
       " \twith 93642 stored elements in Compressed Sparse Row format>,\n",
       " <10000x10000 sparse matrix of type '<class 'numpy.float64'>'\n",
       " \twith 93921 stored elements in Compressed Sparse Row format>]"
      ]
     },
     "execution_count": 16,
     "metadata": {},
     "output_type": "execute_result"
    }
   ],
   "source": [
    "L"
   ]
  }
 ],
 "metadata": {
  "kernelspec": {
   "display_name": "Python 3",
   "language": "python",
   "name": "python3"
  },
  "language_info": {
   "codemirror_mode": {
    "name": "ipython",
    "version": 3
   },
   "file_extension": ".py",
   "mimetype": "text/x-python",
   "name": "python",
   "nbconvert_exporter": "python",
   "pygments_lexer": "ipython3",
   "version": "3.6.3"
  }
 },
 "nbformat": 4,
 "nbformat_minor": 5
}

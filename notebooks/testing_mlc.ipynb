{
 "cells": [
  {
   "cell_type": "markdown",
   "id": "nasty-steering",
   "metadata": {},
   "source": [
    "# Linear Combination of Matrices"
   ]
  },
  {
   "cell_type": "code",
   "execution_count": 1,
   "id": "suffering-revolution",
   "metadata": {},
   "outputs": [
    {
     "name": "stdout",
     "output_type": "stream",
     "text": [
      "/home/ngshya/drive/gdrive/projects/effcossim\n"
     ]
    }
   ],
   "source": [
    "%cd ~/drive/gdrive/projects/effcossim"
   ]
  },
  {
   "cell_type": "code",
   "execution_count": 2,
   "id": "southern-rapid",
   "metadata": {},
   "outputs": [],
   "source": [
    "from numpy import array\n",
    "from effcossim.pcs import MLC"
   ]
  },
  {
   "cell_type": "code",
   "execution_count": 3,
   "id": "stuck-montreal",
   "metadata": {},
   "outputs": [],
   "source": [
    "X = array([\n",
    "    [1, 2], \n",
    "    [0, 1]\n",
    "])\n",
    "\n",
    "Y = array([\n",
    "    [0, 3], \n",
    "    [1, 0]\n",
    "])\n",
    "\n",
    "Z = array([\n",
    "    [0, 3], \n",
    "    [1, 0]\n",
    "])"
   ]
  },
  {
   "cell_type": "code",
   "execution_count": 4,
   "id": "subjective-folks",
   "metadata": {},
   "outputs": [
    {
     "data": {
      "text/plain": [
       "3.9999999999999996"
      ]
     },
     "execution_count": 4,
     "metadata": {},
     "output_type": "execute_result"
    }
   ],
   "source": [
    "obj_mlc = MLC(M=[X, Y], W=[2, 1])\n",
    "obj_mlc.output.sum()"
   ]
  },
  {
   "cell_type": "code",
   "execution_count": 5,
   "id": "technical-softball",
   "metadata": {},
   "outputs": [
    {
     "data": {
      "text/plain": [
       "4.0"
      ]
     },
     "execution_count": 5,
     "metadata": {},
     "output_type": "execute_result"
    }
   ],
   "source": [
    "obj_mlc.update_W([0, 3]).sum()"
   ]
  },
  {
   "cell_type": "code",
   "execution_count": 6,
   "id": "played-panic",
   "metadata": {},
   "outputs": [
    {
     "data": {
      "text/plain": [
       "4.0"
      ]
     },
     "execution_count": 6,
     "metadata": {},
     "output_type": "execute_result"
    }
   ],
   "source": [
    "obj_mlc.update_M([X, Z]).sum()"
   ]
  },
  {
   "cell_type": "code",
   "execution_count": 7,
   "id": "historical-survival",
   "metadata": {},
   "outputs": [
    {
     "data": {
      "text/plain": [
       "4.0"
      ]
     },
     "execution_count": 7,
     "metadata": {},
     "output_type": "execute_result"
    }
   ],
   "source": [
    "obj_mlc = MLC(M=[X, Y])\n",
    "obj_mlc.output.sum()"
   ]
  },
  {
   "cell_type": "code",
   "execution_count": 8,
   "id": "legitimate-george",
   "metadata": {},
   "outputs": [],
   "source": [
    "obj_mlc = MLC(W=[2, 1])\n",
    "obj_mlc.output"
   ]
  },
  {
   "cell_type": "code",
   "execution_count": 9,
   "id": "compressed-fabric",
   "metadata": {},
   "outputs": [
    {
     "data": {
      "text/plain": [
       "3.9999999999999996"
      ]
     },
     "execution_count": 9,
     "metadata": {},
     "output_type": "execute_result"
    }
   ],
   "source": [
    "obj_mlc.update_M([X, Z]).sum()"
   ]
  },
  {
   "cell_type": "code",
   "execution_count": 10,
   "id": "driving-secretariat",
   "metadata": {},
   "outputs": [],
   "source": [
    "obj_mlc.update_M([X, Z, X])"
   ]
  },
  {
   "cell_type": "code",
   "execution_count": 11,
   "id": "protected-display",
   "metadata": {},
   "outputs": [],
   "source": [
    "obj_mlc = MLC()"
   ]
  },
  {
   "cell_type": "code",
   "execution_count": 12,
   "id": "mathematical-wildlife",
   "metadata": {},
   "outputs": [
    {
     "data": {
      "text/plain": [
       "array([[0.5, 2.5],\n",
       "       [0.5, 0.5]])"
      ]
     },
     "execution_count": 12,
     "metadata": {},
     "output_type": "execute_result"
    }
   ],
   "source": [
    "obj_mlc.update_M([X, Z])"
   ]
  }
 ],
 "metadata": {
  "kernelspec": {
   "display_name": "Python 3",
   "language": "python",
   "name": "python3"
  },
  "language_info": {
   "codemirror_mode": {
    "name": "ipython",
    "version": 3
   },
   "file_extension": ".py",
   "mimetype": "text/x-python",
   "name": "python",
   "nbconvert_exporter": "python",
   "pygments_lexer": "ipython3",
   "version": "3.6.3"
  }
 },
 "nbformat": 4,
 "nbformat_minor": 5
}
